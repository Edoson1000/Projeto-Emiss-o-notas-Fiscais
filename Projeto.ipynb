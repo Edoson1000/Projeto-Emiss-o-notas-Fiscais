{
 "cells": [
  {
   "cell_type": "code",
   "execution_count": 40,
   "metadata": {},
   "outputs": [
    {
     "name": "stdout",
     "output_type": "stream",
     "text": [
      "Defaulting to user installation because normal site-packages is not writeable\n",
      "Requirement already satisfied: pandas in c:\\users\\edson\\appdata\\local\\packages\\pythonsoftwarefoundation.python.3.12_qbz5n2kfra8p0\\localcache\\local-packages\\python312\\site-packages (2.2.2)\n",
      "Requirement already satisfied: numpy>=1.26.0 in c:\\users\\edson\\appdata\\local\\packages\\pythonsoftwarefoundation.python.3.12_qbz5n2kfra8p0\\localcache\\local-packages\\python312\\site-packages (from pandas) (2.0.0)\n",
      "Requirement already satisfied: python-dateutil>=2.8.2 in c:\\users\\edson\\appdata\\local\\packages\\pythonsoftwarefoundation.python.3.12_qbz5n2kfra8p0\\localcache\\local-packages\\python312\\site-packages (from pandas) (2.9.0.post0)\n",
      "Requirement already satisfied: pytz>=2020.1 in c:\\users\\edson\\appdata\\local\\packages\\pythonsoftwarefoundation.python.3.12_qbz5n2kfra8p0\\localcache\\local-packages\\python312\\site-packages (from pandas) (2024.1)\n",
      "Requirement already satisfied: tzdata>=2022.7 in c:\\users\\edson\\appdata\\local\\packages\\pythonsoftwarefoundation.python.3.12_qbz5n2kfra8p0\\localcache\\local-packages\\python312\\site-packages (from pandas) (2024.1)\n",
      "Requirement already satisfied: six>=1.5 in c:\\users\\edson\\appdata\\local\\packages\\pythonsoftwarefoundation.python.3.12_qbz5n2kfra8p0\\localcache\\local-packages\\python312\\site-packages (from python-dateutil>=2.8.2->pandas) (1.16.0)\n",
      "Note: you may need to restart the kernel to use updated packages.\n"
     ]
    }
   ],
   "source": [
    "pip install pandas"
   ]
  },
  {
   "cell_type": "code",
   "execution_count": 1,
   "metadata": {},
   "outputs": [
    {
     "name": "stdout",
     "output_type": "stream",
     "text": [
      "Defaulting to user installation because normal site-packages is not writeable\n",
      "Requirement already satisfied: openpyxl in c:\\users\\edson\\appdata\\local\\packages\\pythonsoftwarefoundation.python.3.12_qbz5n2kfra8p0\\localcache\\local-packages\\python312\\site-packages (3.1.5)\n",
      "Requirement already satisfied: et-xmlfile in c:\\users\\edson\\appdata\\local\\packages\\pythonsoftwarefoundation.python.3.12_qbz5n2kfra8p0\\localcache\\local-packages\\python312\\site-packages (from openpyxl) (1.1.0)\n",
      "Note: you may need to restart the kernel to use updated packages.\n"
     ]
    },
    {
     "name": "stderr",
     "output_type": "stream",
     "text": [
      "\n",
      "[notice] A new release of pip is available: 24.2 -> 24.3.1\n",
      "[notice] To update, run: C:\\Users\\Edson\\AppData\\Local\\Microsoft\\WindowsApps\\PythonSoftwareFoundation.Python.3.12_qbz5n2kfra8p0\\python.exe -m pip install --upgrade pip\n"
     ]
    }
   ],
   "source": [
    "pip install openpyxl "
   ]
  },
  {
   "cell_type": "code",
   "execution_count": 3,
   "metadata": {},
   "outputs": [],
   "source": [
    "import pandas as pd\n",
    "import openpyxl\n",
    "\n",
    "tabela = pd.read_excel('NotasEmitir.xlsx')\n",
    "#########################################################################\n",
    "nome = tabela['Cliente']\n",
    "cpf = tabela['CPF/CNPJ']\n",
    "cep = tabela['CEP']\n",
    "endereco = tabela['Endereço'][1:]\n",
    "Bairro = tabela['Bairro']\n",
    "Municipio = tabela['Municipio']\n",
    "uf = tabela['UF']\n",
    "Inscricao_Estadual = tabela['Inscricao Estadual']\n",
    "Descrição = tabela['Descrição']\n",
    "Quantidade = tabela['Quantidade']\n",
    "Valor_Unitario = tabela['Valor Unitario']\n",
    "Valor_Total = tabela['Valor Total']\n",
    "#########################################################################\n",
    "from selenium import webdriver\n",
    "from time import sleep\n",
    "from webdriver_manager.chrome import ChromeDriverManager\n",
    "from selenium.webdriver.chrome.service import Service\n",
    "from selenium.webdriver.common.by import By\n",
    "import os \n",
    "caminho = os.getcwd()\n",
    "arquivo = caminho + r\"\\login.html\"\n",
    "\n",
    "\n",
    "servico = Service(ChromeDriverManager().install())\n",
    "\n",
    "navegador = webdriver.Chrome(service=servico)\n",
    "navegador.get(arquivo)\n",
    "# entra na tela de login\n",
    "sleep(2)\n",
    "usuario = navegador.find_element(By.XPATH,'/html/body/div/form/input[1]').send_keys('Edson o Brabo')\n",
    "sleep(1)\n",
    "senha = navegador.find_element(By.XPATH,'/html/body/div/form/input[2]').send_keys(12345678)\n",
    "sleep(1)\n",
    "login = navegador.find_element(By.XPATH,'/html/body/div/form/button').click()\n",
    "\n",
    "# Preencher o Formularios\n",
    "for psc in range(1,2):\n",
    "    campo_nome = navegador.find_element(By.XPATH,'//*[@id=\"nome\"]').send_keys(nome[psc])\n",
    "    sleep(1)\n",
    "    campo_endereco = navegador.find_element(By.NAME,'endereco').send_keys(endereco[psc])\n",
    "    sleep(1)\n",
    "    campo_bairro = navegador.find_element(By.NAME,'bairro').send_keys(Bairro[psc])\n",
    "    sleep(1)\n",
    "    campo_municipio = navegador.find_element(By.NAME,'municipio').send_keys(Municipio[psc])\n",
    "    sleep(1)\n",
    "    campo_cep = navegador.find_element(By.NAME,'cep').send_keys(str(cep[psc]))\n",
    "    sleep(1)\n",
    "    campo_uf = navegador.find_element(By.NAME,'uf').send_keys(str(uf[psc]))\n",
    "    sleep(1)\n",
    "    campo_cpf = navegador.find_element(By.NAME,'cnpj').send_keys(str(cpf[psc]))\n",
    "    sleep(1)\n",
    "    campo_descricao = navegador.find_element(By.NAME,'descricao').send_keys(str(Descrição[psc]))\n",
    "    sleep(1)\n",
    "    campo_quantidade = navegador.find_element(By.NAME,'quantidade').send_keys(str(Quantidade[psc]))\n",
    "    sleep(1)\n",
    "    campo_valor_unitario = navegador.find_element(By.NAME,'valor_unitario').send_keys(str(Valor_Unitario[psc]))\n",
    "    sleep(1)\n",
    "    campo_total = navegador.find_element(By.NAME,'total').send_keys(str(Valor_Total[psc]))\n",
    "    sleep(1)\n",
    "    navegador.find_element(By.XPATH,'//*[@id=\"TESTE\"]/button').click()\n",
    "    sleep(1)\n",
    "    campos = navegador.find_elements(By.TAG_NAME,\"input\")\n",
    "\n",
    "    for campo in campos:\n",
    "        campo.clear()"
   ]
  }
 ],
 "metadata": {
  "kernelspec": {
   "display_name": "Python 3",
   "language": "python",
   "name": "python3"
  },
  "language_info": {
   "codemirror_mode": {
    "name": "ipython",
    "version": 3
   },
   "file_extension": ".py",
   "mimetype": "text/x-python",
   "name": "python",
   "nbconvert_exporter": "python",
   "pygments_lexer": "ipython3",
   "version": "3.12.7"
  }
 },
 "nbformat": 4,
 "nbformat_minor": 2
}
